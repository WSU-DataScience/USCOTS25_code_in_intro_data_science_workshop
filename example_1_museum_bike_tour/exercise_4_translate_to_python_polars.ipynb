{
 "cells": [
  {
   "cell_type": "markdown",
   "metadata": {},
   "source": [
    "## Python basics"
   ]
  },
  {
   "cell_type": "markdown",
   "metadata": {
    "slideshow": {
     "slide_type": "slide"
    }
   },
   "source": [
    "### Importing from Modules\n",
    "\n",
    "* **Basic syntax** `import polars`\n",
    "* **Standard practice** `import polars as pl`"
   ]
  },
  {
   "cell_type": "code",
   "execution_count": 1,
   "metadata": {},
   "outputs": [],
   "source": [
    "import polars as pl "
   ]
  },
  {
   "cell_type": "markdown",
   "metadata": {
    "slideshow": {
     "slide_type": "slide"
    }
   },
   "source": [
    "### Object Oriented Design in Python\n",
    "\n",
    "Everything is an object\n",
    "* **Attributes:** Attached variables\n",
    "* **Methods:** Attached functions\n"
   ]
  },
  {
   "cell_type": "markdown",
   "metadata": {
    "slideshow": {
     "slide_type": "slide"
    }
   },
   "source": [
    "#### Method Example - Dot-chaining `str` methods"
   ]
  },
  {
   "cell_type": "code",
   "execution_count": 2,
   "metadata": {},
   "outputs": [],
   "source": [
    "s = \"Do the difficult things while they are easy and do the great things while they are small.\""
   ]
  },
  {
   "cell_type": "markdown",
   "metadata": {},
   "source": [
    "\n",
    "**Note.** Putting `:=` inside parentheses makes an assignment expression that\n",
    "1. Saves value on the LHS to the variable in the RHS\n",
    "2. Returns the value."
   ]
  },
  {
   "cell_type": "code",
   "execution_count": 3,
   "metadata": {
    "scrolled": true,
    "slideshow": {
     "slide_type": "fragment"
    }
   },
   "outputs": [
    {
     "data": {
      "text/plain": [
       "'put off the difficult things while they are easy and put off the great things while they are small.'"
      ]
     },
     "execution_count": 3,
     "metadata": {},
     "output_type": "execute_result"
    }
   ],
   "source": [
    "(s2 :=\n",
    " s\n",
    " .lower()\n",
    " .replace(\"do\", \"put off\")\n",
    ")\n"
   ]
  },
  {
   "cell_type": "markdown",
   "metadata": {},
   "source": [
    "### Chaining methods is like piping\n",
    "\n",
    "<img src=\"./img/r_pipe.png\" width=800>"
   ]
  },
  {
   "cell_type": "markdown",
   "metadata": {},
   "source": [
    "## Write and test a great distance function\n"
   ]
  },
  {
   "cell_type": "markdown",
   "metadata": {},
   "source": [
    "### Code from Tableau Prep\n",
    "\n",
    "Here is the code from Tableau Prep\n",
    "```{Tableau}\n",
    "6371*ACOS(\n",
    "\tSIN(RADIANS([Lat 1]))*\n",
    "    SIN(RADIANS( 40.783056))\n",
    "\t+\n",
    "    COS(RADIANS([Lat 1]))*\n",
    "    COS(RADIANS( 40.783056))*\n",
    "    COS(RADIANS([Long 1]) - \n",
    "    \tRADIANS(-73.958889)\n",
    "       )\n",
    ")\n",
    "```"
   ]
  },
  {
   "cell_type": "code",
   "execution_count": 4,
   "metadata": {},
   "outputs": [],
   "source": [
    "def great_circle_distance(lat_col, lng_col, lat2, lng2):\n",
    "    \"\"\"Create a polars expression for computing the great circle distance.\n",
    "\n",
    "    Args:\n",
    "        lat_col(string): The name of the lat (float) column\n",
    "        lng_col(string): The name of the long (float) column\n",
    "        lat2 (float): The fixed latitude.\n",
    "        lng2 (float): The fixed longitude.\n",
    "\n",
    "    Returns: A polars column expression which can be used in `with_columns`\n",
    "    \"\"\"\n",
    "    return (pl.col(lat_col).radians().sin()*\n",
    "            pl.lit(lat2).radians().sin()\n",
    "            +\n",
    "            pl.col(lat_col).radians().cos()*\n",
    "            pl.lit(lat2).radians().cos()*\n",
    "            (pl.col(lng_col).radians() -\n",
    "            pl.lit(lng2).radians()\n",
    "            ).cos()\n",
    "           ).arccos()*6371"
   ]
  },
  {
   "cell_type": "markdown",
   "metadata": {},
   "source": [
    "### Checking that the function works"
   ]
  },
  {
   "cell_type": "code",
   "execution_count": 5,
   "metadata": {},
   "outputs": [
    {
     "data": {
      "text/html": [
       "<div><style>\n",
       ".dataframe > thead > tr,\n",
       ".dataframe > tbody > tr {\n",
       "  text-align: right;\n",
       "  white-space: pre-wrap;\n",
       "}\n",
       "</style>\n",
       "<small>shape: (2, 7)</small><table border=\"1\" class=\"dataframe\"><thead><tr><th>City 1</th><th>Lat 1</th><th>Long 1</th><th>City 2</th><th>Lat 2</th><th>Long 2</th><th>Distance from Web (km)</th></tr><tr><td>str</td><td>f64</td><td>f64</td><td>str</td><td>f64</td><td>f64</td><td>f64</td></tr></thead><tbody><tr><td>&quot;Winona, MN&quot;</td><td>44.050556</td><td>-91.66833</td><td>&quot;Ames, IA&quot;</td><td>42.018056</td><td>-93.62</td><td>276.48</td></tr><tr><td>&quot;Glagow, Scotland, UK&quot;</td><td>55.861111</td><td>-4.25</td><td>&quot;Ames, IA&quot;</td><td>42.018056</td><td>-93.62</td><td>6237.63</td></tr></tbody></table></div>"
      ],
      "text/plain": [
       "shape: (2, 7)\n",
       "┌─────────────────────┬───────────┬───────────┬──────────┬───────────┬────────┬────────────────────┐\n",
       "│ City 1              ┆ Lat 1     ┆ Long 1    ┆ City 2   ┆ Lat 2     ┆ Long 2 ┆ Distance from Web  │\n",
       "│ ---                 ┆ ---       ┆ ---       ┆ ---      ┆ ---       ┆ ---    ┆ (km)               │\n",
       "│ str                 ┆ f64       ┆ f64       ┆ str      ┆ f64       ┆ f64    ┆ ---                │\n",
       "│                     ┆           ┆           ┆          ┆           ┆        ┆ f64                │\n",
       "╞═════════════════════╪═══════════╪═══════════╪══════════╪═══════════╪════════╪════════════════════╡\n",
       "│ Winona, MN          ┆ 44.050556 ┆ -91.66833 ┆ Ames, IA ┆ 42.018056 ┆ -93.62 ┆ 276.48             │\n",
       "│ Glagow, Scotland,   ┆ 55.861111 ┆ -4.25     ┆ Ames, IA ┆ 42.018056 ┆ -93.62 ┆ 6237.63            │\n",
       "│ UK                  ┆           ┆           ┆          ┆           ┆        ┆                    │\n",
       "└─────────────────────┴───────────┴───────────┴──────────┴───────────┴────────┴────────────────────┘"
      ]
     },
     "execution_count": 5,
     "metadata": {},
     "output_type": "execute_result"
    }
   ],
   "source": [
    "(lat_long_example :=\n",
    " pl.read_csv(\"https://raw.githubusercontent.com/WSU-DataScience/USCOTS25_code_in_intro_data_science_workshop/refs/heads/main/example_1_museum_bike_tour/lat_long_examples.csv\"))"
   ]
  },
  {
   "cell_type": "code",
   "execution_count": 6,
   "metadata": {},
   "outputs": [
    {
     "data": {
      "text/html": [
       "<div><style>\n",
       ".dataframe > thead > tr,\n",
       ".dataframe > tbody > tr {\n",
       "  text-align: right;\n",
       "  white-space: pre-wrap;\n",
       "}\n",
       "</style>\n",
       "<small>shape: (2, 9)</small><table border=\"1\" class=\"dataframe\"><thead><tr><th>City 1</th><th>Lat 1</th><th>Long 1</th><th>City 2</th><th>Lat 2</th><th>Long 2</th><th>Distance from Web (km)</th><th>distance</th><th>difference</th></tr><tr><td>str</td><td>f64</td><td>f64</td><td>str</td><td>f64</td><td>f64</td><td>f64</td><td>f64</td><td>f64</td></tr></thead><tbody><tr><td>&quot;Winona, MN&quot;</td><td>44.050556</td><td>-91.66833</td><td>&quot;Ames, IA&quot;</td><td>42.018056</td><td>-93.62</td><td>276.48</td><td>276.096746</td><td>-0.383254</td></tr><tr><td>&quot;Glagow, Scotland, UK&quot;</td><td>55.861111</td><td>-4.25</td><td>&quot;Ames, IA&quot;</td><td>42.018056</td><td>-93.62</td><td>6237.63</td><td>6231.441031</td><td>-6.188969</td></tr></tbody></table></div>"
      ],
      "text/plain": [
       "shape: (2, 9)\n",
       "┌────────────┬───────────┬───────────┬──────────┬───┬────────┬────────────┬────────────┬───────────┐\n",
       "│ City 1     ┆ Lat 1     ┆ Long 1    ┆ City 2   ┆ … ┆ Long 2 ┆ Distance   ┆ distance   ┆ differenc │\n",
       "│ ---        ┆ ---       ┆ ---       ┆ ---      ┆   ┆ ---    ┆ from Web   ┆ ---        ┆ e         │\n",
       "│ str        ┆ f64       ┆ f64       ┆ str      ┆   ┆ f64    ┆ (km)       ┆ f64        ┆ ---       │\n",
       "│            ┆           ┆           ┆          ┆   ┆        ┆ ---        ┆            ┆ f64       │\n",
       "│            ┆           ┆           ┆          ┆   ┆        ┆ f64        ┆            ┆           │\n",
       "╞════════════╪═══════════╪═══════════╪══════════╪═══╪════════╪════════════╪════════════╪═══════════╡\n",
       "│ Winona, MN ┆ 44.050556 ┆ -91.66833 ┆ Ames, IA ┆ … ┆ -93.62 ┆ 276.48     ┆ 276.096746 ┆ -0.383254 │\n",
       "│ Glagow,    ┆ 55.861111 ┆ -4.25     ┆ Ames, IA ┆ … ┆ -93.62 ┆ 6237.63    ┆ 6231.44103 ┆ -6.188969 │\n",
       "│ Scotland,  ┆           ┆           ┆          ┆   ┆        ┆            ┆ 1          ┆           │\n",
       "│ UK         ┆           ┆           ┆          ┆   ┆        ┆            ┆            ┆           │\n",
       "└────────────┴───────────┴───────────┴──────────┴───┴────────┴────────────┴────────────┴───────────┘"
      ]
     },
     "execution_count": 6,
     "metadata": {},
     "output_type": "execute_result"
    }
   ],
   "source": [
    "(lat_long_example\n",
    " .with_columns(distance = great_circle_distance('Lat 1', 'Long 1', 42.018056,  -93.62))\n",
    " .with_columns(difference = pl.col('distance') - pl.col('Distance from Web (km)'),\n",
    "               )\n",
    "\n",
    ")"
   ]
  },
  {
   "cell_type": "markdown",
   "metadata": {},
   "source": [
    "## Exercise 4 - Translating to code\n",
    "\n",
    "Process outline\n",
    "1. Read CSV + Initial SELECT + correct data types *[DONE]*\n",
    "2. Grouped aggregation to get unique station per row.\n",
    "3. Compute the distance for each museum.\n",
    "4. Use IF and CASE to get closest museum.\n",
    "5. Use PARTITION + ORDER BY to rank then FILTER"
   ]
  },
  {
   "cell_type": "markdown",
   "metadata": {},
   "source": [
    "### Step 1 - Read the csv, initial select, and fix types\n"
   ]
  },
  {
   "cell_type": "code",
   "execution_count": 7,
   "metadata": {},
   "outputs": [],
   "source": [
    "city_bike_url = \"https://raw.githubusercontent.com/WSU-DataScience/USCOTS25_code_in_intro_data_science_workshop/refs/heads/main/example_1_museum_bike_tour/citibike-tripdata_cent_park_6_1_to_6_7_25.csv\""
   ]
  },
  {
   "cell_type": "code",
   "execution_count": 8,
   "metadata": {},
   "outputs": [
    {
     "name": "stderr",
     "output_type": "stream",
     "text": [
      "/var/folders/k4/_tynxgnx6l39rvqmb6z2_mmh0000gn/T/ipykernel_84763/3989625226.py:2: DeprecationWarning: The argument `dtypes` for `read_csv` is deprecated. It has been renamed to `schema_overrides`.\n",
      "  pl.read_csv(city_bike_url,\n"
     ]
    },
    {
     "data": {
      "text/html": [
       "<div><style>\n",
       ".dataframe > thead > tr,\n",
       ".dataframe > tbody > tr {\n",
       "  text-align: right;\n",
       "  white-space: pre-wrap;\n",
       "}\n",
       "</style>\n",
       "<small>shape: (5, 4)</small><table border=\"1\" class=\"dataframe\"><thead><tr><th>start_station_name</th><th>start_station_id</th><th>start_lat</th><th>start_lng</th></tr><tr><td>str</td><td>str</td><td>f64</td><td>f64</td></tr></thead><tbody><tr><td>&quot;E 77 St &amp; 3 Ave&quot;</td><td>&quot;7092.06&quot;</td><td>40.773142</td><td>-73.958562</td></tr><tr><td>&quot;Broadway &amp; W 58 St&quot;</td><td>&quot;6948.10&quot;</td><td>40.766953</td><td>-73.981693</td></tr><tr><td>&quot;W 44 St &amp; 11 Ave&quot;</td><td>&quot;6756.05&quot;</td><td>40.762009</td><td>-73.996975</td></tr><tr><td>&quot;W 106 St &amp; Central Park W&quot;</td><td>&quot;7606.01&quot;</td><td>40.798186</td><td>-73.960591</td></tr><tr><td>&quot;E 68 St &amp; 3 Ave&quot;</td><td>&quot;6896.16&quot;</td><td>40.767128</td><td>-73.962246</td></tr></tbody></table></div>"
      ],
      "text/plain": [
       "shape: (5, 4)\n",
       "┌───────────────────────────┬──────────────────┬───────────┬────────────┐\n",
       "│ start_station_name        ┆ start_station_id ┆ start_lat ┆ start_lng  │\n",
       "│ ---                       ┆ ---              ┆ ---       ┆ ---        │\n",
       "│ str                       ┆ str              ┆ f64       ┆ f64        │\n",
       "╞═══════════════════════════╪══════════════════╪═══════════╪════════════╡\n",
       "│ E 77 St & 3 Ave           ┆ 7092.06          ┆ 40.773142 ┆ -73.958562 │\n",
       "│ Broadway & W 58 St        ┆ 6948.10          ┆ 40.766953 ┆ -73.981693 │\n",
       "│ W 44 St & 11 Ave          ┆ 6756.05          ┆ 40.762009 ┆ -73.996975 │\n",
       "│ W 106 St & Central Park W ┆ 7606.01          ┆ 40.798186 ┆ -73.960591 │\n",
       "│ E 68 St & 3 Ave           ┆ 6896.16          ┆ 40.767128 ┆ -73.962246 │\n",
       "└───────────────────────────┴──────────────────┴───────────┴────────────┘"
      ]
     },
     "execution_count": 8,
     "metadata": {},
     "output_type": "execute_result"
    }
   ],
   "source": [
    "(city_bike :=\n",
    " pl.read_csv(city_bike_url,\n",
    "             columns = [\"start_station_name\",\n",
    "                        \"start_station_id\",\n",
    "                        \"start_lat\",\n",
    "                        \"start_lng\",\n",
    "                       ],\n",
    "             dtypes = {\"start_station_name\": pl.String(),\n",
    "                       \"start_station_id\": pl.String(),\n",
    "                       \"start_lat\": pl.Float64(),\n",
    "                       \"start_lng\": pl.Float64(),\n",
    "                      },\n",
    "            )\n",
    ").head()"
   ]
  },
  {
   "cell_type": "markdown",
   "metadata": {},
   "source": [
    "### Step 2 - Grouped aggregation"
   ]
  },
  {
   "cell_type": "code",
   "execution_count": 9,
   "metadata": {},
   "outputs": [
    {
     "data": {
      "text/html": [
       "<div><style>\n",
       ".dataframe > thead > tr,\n",
       ".dataframe > tbody > tr {\n",
       "  text-align: right;\n",
       "  white-space: pre-wrap;\n",
       "}\n",
       "</style>\n",
       "<small>shape: (304, 4)</small><table border=\"1\" class=\"dataframe\"><thead><tr><th>start_station_name</th><th>start_station_id</th><th>start_lat</th><th>start_lng</th></tr><tr><td>str</td><td>str</td><td>f64</td><td>f64</td></tr></thead><tbody><tr><td>&quot;W 42 St &amp; 8 Ave&quot;</td><td>&quot;6602.05&quot;</td><td>40.75757</td><td>-73.990985</td></tr><tr><td>&quot;Mt Morris Park W &amp; W 120 St&quot;</td><td>&quot;7685.14&quot;</td><td>40.804038</td><td>-73.945925</td></tr><tr><td>&quot;Madison Ave &amp; E 120 St&quot;</td><td>&quot;7667.04&quot;</td><td>40.80295</td><td>-73.942954</td></tr><tr><td>&quot;Broadway &amp; W 53 St&quot;</td><td>&quot;6779.05&quot;</td><td>40.763441</td><td>-73.982681</td></tr><tr><td>&quot;Convent Ave &amp; W 135 St&quot;</td><td>&quot;7860.08&quot;</td><td>40.818215</td><td>-73.950988</td></tr><tr><td>&hellip;</td><td>&hellip;</td><td>&hellip;</td><td>&hellip;</td></tr><tr><td>&quot;Central Park W &amp; W 97 St&quot;</td><td>&quot;7538.18&quot;</td><td>40.792495</td><td>-73.964171</td></tr><tr><td>&quot;E 47 St &amp; 2 Ave&quot;</td><td>&quot;6498.10&quot;</td><td>40.753231</td><td>-73.970325</td></tr><tr><td>&quot;Riverside Dr &amp; W 145 St&quot;</td><td>&quot;8018.04&quot;</td><td>40.827305</td><td>-73.951989</td></tr><tr><td>&quot;E 46 St &amp; Madison Ave&quot;</td><td>&quot;6551.16&quot;</td><td>40.755393</td><td>-73.977601</td></tr><tr><td>&quot;Broadway &amp; W 58 St&quot;</td><td>&quot;6948.10&quot;</td><td>40.766953</td><td>-73.981693</td></tr></tbody></table></div>"
      ],
      "text/plain": [
       "shape: (304, 4)\n",
       "┌─────────────────────────────┬──────────────────┬───────────┬────────────┐\n",
       "│ start_station_name          ┆ start_station_id ┆ start_lat ┆ start_lng  │\n",
       "│ ---                         ┆ ---              ┆ ---       ┆ ---        │\n",
       "│ str                         ┆ str              ┆ f64       ┆ f64        │\n",
       "╞═════════════════════════════╪══════════════════╪═══════════╪════════════╡\n",
       "│ W 42 St & 8 Ave             ┆ 6602.05          ┆ 40.75757  ┆ -73.990985 │\n",
       "│ Mt Morris Park W & W 120 St ┆ 7685.14          ┆ 40.804038 ┆ -73.945925 │\n",
       "│ Madison Ave & E 120 St      ┆ 7667.04          ┆ 40.80295  ┆ -73.942954 │\n",
       "│ Broadway & W 53 St          ┆ 6779.05          ┆ 40.763441 ┆ -73.982681 │\n",
       "│ Convent Ave & W 135 St      ┆ 7860.08          ┆ 40.818215 ┆ -73.950988 │\n",
       "│ …                           ┆ …                ┆ …         ┆ …          │\n",
       "│ Central Park W & W 97 St    ┆ 7538.18          ┆ 40.792495 ┆ -73.964171 │\n",
       "│ E 47 St & 2 Ave             ┆ 6498.10          ┆ 40.753231 ┆ -73.970325 │\n",
       "│ Riverside Dr & W 145 St     ┆ 8018.04          ┆ 40.827305 ┆ -73.951989 │\n",
       "│ E 46 St & Madison Ave       ┆ 6551.16          ┆ 40.755393 ┆ -73.977601 │\n",
       "│ Broadway & W 58 St          ┆ 6948.10          ┆ 40.766953 ┆ -73.981693 │\n",
       "└─────────────────────────────┴──────────────────┴───────────┴────────────┘"
      ]
     },
     "execution_count": 9,
     "metadata": {},
     "output_type": "execute_result"
    }
   ],
   "source": [
    "(city_bike_2 :=\n",
    " city_bike\n",
    " .group_by(['start_station_name',\n",
    "            'start_station_id',\n",
    "           ])\n",
    " .agg(start_lat = pl.mean('start_lat'),\n",
    "      start_lng = pl.mean('start_lng')\n",
    "     )\n",
    ")"
   ]
  },
  {
   "cell_type": "markdown",
   "metadata": {},
   "source": [
    "### Step 3 - Compute the great cirle distance for each museum"
   ]
  },
  {
   "cell_type": "code",
   "execution_count": 17,
   "metadata": {},
   "outputs": [],
   "source": [
    "gug_lat, gug_lng = (40.783056, -73.958889)\n",
    "nh_lat, nh_lng = (40.780833, -73.974444)\n"
   ]
  },
  {
   "cell_type": "code",
   "execution_count": 18,
   "metadata": {},
   "outputs": [
    {
     "data": {
      "text/html": [
       "<div><style>\n",
       ".dataframe > thead > tr,\n",
       ".dataframe > tbody > tr {\n",
       "  text-align: right;\n",
       "  white-space: pre-wrap;\n",
       "}\n",
       "</style>\n",
       "<small>shape: (5, 4)</small><table border=\"1\" class=\"dataframe\"><thead><tr><th>start_station_name</th><th>start_station_id</th><th>guggenheim</th><th>natural_history</th></tr><tr><td>str</td><td>str</td><td>f64</td><td>f64</td></tr></thead><tbody><tr><td>&quot;W 42 St &amp; 8 Ave&quot;</td><td>&quot;6602.05&quot;</td><td>3.916197</td><td>2.937957</td></tr><tr><td>&quot;Mt Morris Park W &amp; W 120 St&quot;</td><td>&quot;7685.14&quot;</td><td>2.575721</td><td>3.524462</td></tr><tr><td>&quot;Madison Ave &amp; E 120 St&quot;</td><td>&quot;7667.04&quot;</td><td>2.587071</td><td>3.616041</td></tr><tr><td>&quot;Broadway &amp; W 53 St&quot;</td><td>&quot;6779.05&quot;</td><td>2.961648</td><td>2.054585</td></tr><tr><td>&quot;Convent Ave &amp; W 135 St&quot;</td><td>&quot;7860.08&quot;</td><td>3.965666</td><td>4.601773</td></tr></tbody></table></div>"
      ],
      "text/plain": [
       "shape: (5, 4)\n",
       "┌─────────────────────────────┬──────────────────┬────────────┬─────────────────┐\n",
       "│ start_station_name          ┆ start_station_id ┆ guggenheim ┆ natural_history │\n",
       "│ ---                         ┆ ---              ┆ ---        ┆ ---             │\n",
       "│ str                         ┆ str              ┆ f64        ┆ f64             │\n",
       "╞═════════════════════════════╪══════════════════╪════════════╪═════════════════╡\n",
       "│ W 42 St & 8 Ave             ┆ 6602.05          ┆ 3.916197   ┆ 2.937957        │\n",
       "│ Mt Morris Park W & W 120 St ┆ 7685.14          ┆ 2.575721   ┆ 3.524462        │\n",
       "│ Madison Ave & E 120 St      ┆ 7667.04          ┆ 2.587071   ┆ 3.616041        │\n",
       "│ Broadway & W 53 St          ┆ 6779.05          ┆ 2.961648   ┆ 2.054585        │\n",
       "│ Convent Ave & W 135 St      ┆ 7860.08          ┆ 3.965666   ┆ 4.601773        │\n",
       "└─────────────────────────────┴──────────────────┴────────────┴─────────────────┘"
      ]
     },
     "execution_count": 18,
     "metadata": {},
     "output_type": "execute_result"
    }
   ],
   "source": [
    "(city_bike_3 :=\n",
    " city_bike_2\n",
    " .with_columns(guggenheim = great_circle_distance('start_lat', 'start_lng', gug_lat, gug_lng),\n",
    "               natural_history = great_circle_distance('start_lat', 'start_lng', nh_lat, nh_lng),\n",
    "              )\n",
    " .drop(['start_lat', 'start_lng'])\n",
    ").head()"
   ]
  },
  {
   "cell_type": "markdown",
   "metadata": {},
   "source": [
    "### Step 4 - Get the closest museum to each station"
   ]
  },
  {
   "cell_type": "code",
   "execution_count": 11,
   "metadata": {},
   "outputs": [
    {
     "data": {
      "text/html": [
       "<div><style>\n",
       ".dataframe > thead > tr,\n",
       ".dataframe > tbody > tr {\n",
       "  text-align: right;\n",
       "  white-space: pre-wrap;\n",
       "}\n",
       "</style>\n",
       "<small>shape: (304, 4)</small><table border=\"1\" class=\"dataframe\"><thead><tr><th>start_station_name</th><th>start_station_id</th><th>closest_museum</th><th>distance_to_closest</th></tr><tr><td>str</td><td>str</td><td>str</td><td>f64</td></tr></thead><tbody><tr><td>&quot;W 42 St &amp; 8 Ave&quot;</td><td>&quot;6602.05&quot;</td><td>&quot;natural_history&quot;</td><td>2.937957</td></tr><tr><td>&quot;Mt Morris Park W &amp; W 120 St&quot;</td><td>&quot;7685.14&quot;</td><td>&quot;guggenheim&quot;</td><td>2.575721</td></tr><tr><td>&quot;Madison Ave &amp; E 120 St&quot;</td><td>&quot;7667.04&quot;</td><td>&quot;guggenheim&quot;</td><td>2.587071</td></tr><tr><td>&quot;Broadway &amp; W 53 St&quot;</td><td>&quot;6779.05&quot;</td><td>&quot;natural_history&quot;</td><td>2.054585</td></tr><tr><td>&quot;Convent Ave &amp; W 135 St&quot;</td><td>&quot;7860.08&quot;</td><td>&quot;guggenheim&quot;</td><td>3.965666</td></tr><tr><td>&hellip;</td><td>&hellip;</td><td>&hellip;</td><td>&hellip;</td></tr><tr><td>&quot;Central Park W &amp; W 97 St&quot;</td><td>&quot;7538.18&quot;</td><td>&quot;guggenheim&quot;</td><td>1.139896</td></tr><tr><td>&quot;E 47 St &amp; 2 Ave&quot;</td><td>&quot;6498.10&quot;</td><td>&quot;natural_history&quot;</td><td>3.088743</td></tr><tr><td>&quot;Riverside Dr &amp; W 145 St&quot;</td><td>&quot;8018.04&quot;</td><td>&quot;guggenheim&quot;</td><td>4.95442</td></tr><tr><td>&quot;E 46 St &amp; Madison Ave&quot;</td><td>&quot;6551.16&quot;</td><td>&quot;natural_history&quot;</td><td>2.841265</td></tr><tr><td>&quot;Broadway &amp; W 58 St&quot;</td><td>&quot;6948.10&quot;</td><td>&quot;natural_history&quot;</td><td>1.659706</td></tr></tbody></table></div>"
      ],
      "text/plain": [
       "shape: (304, 4)\n",
       "┌─────────────────────────────┬──────────────────┬─────────────────┬─────────────────────┐\n",
       "│ start_station_name          ┆ start_station_id ┆ closest_museum  ┆ distance_to_closest │\n",
       "│ ---                         ┆ ---              ┆ ---             ┆ ---                 │\n",
       "│ str                         ┆ str              ┆ str             ┆ f64                 │\n",
       "╞═════════════════════════════╪══════════════════╪═════════════════╪═════════════════════╡\n",
       "│ W 42 St & 8 Ave             ┆ 6602.05          ┆ natural_history ┆ 2.937957            │\n",
       "│ Mt Morris Park W & W 120 St ┆ 7685.14          ┆ guggenheim      ┆ 2.575721            │\n",
       "│ Madison Ave & E 120 St      ┆ 7667.04          ┆ guggenheim      ┆ 2.587071            │\n",
       "│ Broadway & W 53 St          ┆ 6779.05          ┆ natural_history ┆ 2.054585            │\n",
       "│ Convent Ave & W 135 St      ┆ 7860.08          ┆ guggenheim      ┆ 3.965666            │\n",
       "│ …                           ┆ …                ┆ …               ┆ …                   │\n",
       "│ Central Park W & W 97 St    ┆ 7538.18          ┆ guggenheim      ┆ 1.139896            │\n",
       "│ E 47 St & 2 Ave             ┆ 6498.10          ┆ natural_history ┆ 3.088743            │\n",
       "│ Riverside Dr & W 145 St     ┆ 8018.04          ┆ guggenheim      ┆ 4.95442             │\n",
       "│ E 46 St & Madison Ave       ┆ 6551.16          ┆ natural_history ┆ 2.841265            │\n",
       "│ Broadway & W 58 St          ┆ 6948.10          ┆ natural_history ┆ 1.659706            │\n",
       "└─────────────────────────────┴──────────────────┴─────────────────┴─────────────────────┘"
      ]
     },
     "execution_count": 11,
     "metadata": {},
     "output_type": "execute_result"
    }
   ],
   "source": [
    "(city_bike_4 := \n",
    " city_bike_3\n",
    " .with_columns(closest_museum = pl.when(pl.col('guggenheim') < pl.col('natural_history'))\n",
    "                                  .then(pl.lit('guggenheim'))\n",
    "                                  .otherwise(pl.lit('natural_history'))\n",
    "              )\n",
    " .with_columns(distance_to_closest = pl.when(pl.col('closest_museum') == 'guggenheim')\n",
    "                                       .then(pl.col('guggenheim'))\n",
    "                                       .otherwise(pl.col('natural_history'))\n",
    "               )\n",
    " .drop(['guggenheim', 'natural_history'])\n",
    " \n",
    " )"
   ]
  },
  {
   "cell_type": "markdown",
   "metadata": {},
   "source": [
    "### Step 5 - Group rank and filter"
   ]
  },
  {
   "cell_type": "code",
   "execution_count": 12,
   "metadata": {},
   "outputs": [
    {
     "data": {
      "text/html": [
       "<div><style>\n",
       ".dataframe > thead > tr,\n",
       ".dataframe > tbody > tr {\n",
       "  text-align: right;\n",
       "  white-space: pre-wrap;\n",
       "}\n",
       "</style>\n",
       "<small>shape: (6, 5)</small><table border=\"1\" class=\"dataframe\"><thead><tr><th>start_station_name</th><th>start_station_id</th><th>closest_museum</th><th>distance_to_closest</th><th>rank</th></tr><tr><td>str</td><td>str</td><td>str</td><td>f64</td><td>u32</td></tr></thead><tbody><tr><td>&quot;E 91 St &amp; Park Ave&quot;</td><td>&quot;7344.05&quot;</td><td>&quot;guggenheim&quot;</td><td>0.303969</td><td>2</td></tr><tr><td>&quot;E 88 St &amp; Park Ave&quot;</td><td>&quot;7293.10&quot;</td><td>&quot;guggenheim&quot;</td><td>0.307125</td><td>3</td></tr><tr><td>&quot;Central Park W &amp; W 76 St&quot;</td><td>&quot;7253.04&quot;</td><td>&quot;natural_history&quot;</td><td>0.215531</td><td>1</td></tr><tr><td>&quot;W 76 St &amp; Columbus Ave&quot;</td><td>&quot;7281.09&quot;</td><td>&quot;natural_history&quot;</td><td>0.249885</td><td>2</td></tr><tr><td>&quot;W 82 St &amp; Central Park W&quot;</td><td>&quot;7304.08&quot;</td><td>&quot;natural_history&quot;</td><td>0.3353</td><td>3</td></tr><tr><td>&quot;5 Ave &amp; E 87 St&quot;</td><td>&quot;7323.09&quot;</td><td>&quot;guggenheim&quot;</td><td>0.116378</td><td>1</td></tr></tbody></table></div>"
      ],
      "text/plain": [
       "shape: (6, 5)\n",
       "┌──────────────────────────┬──────────────────┬─────────────────┬─────────────────────┬──────┐\n",
       "│ start_station_name       ┆ start_station_id ┆ closest_museum  ┆ distance_to_closest ┆ rank │\n",
       "│ ---                      ┆ ---              ┆ ---             ┆ ---                 ┆ ---  │\n",
       "│ str                      ┆ str              ┆ str             ┆ f64                 ┆ u32  │\n",
       "╞══════════════════════════╪══════════════════╪═════════════════╪═════════════════════╪══════╡\n",
       "│ E 91 St & Park Ave       ┆ 7344.05          ┆ guggenheim      ┆ 0.303969            ┆ 2    │\n",
       "│ E 88 St & Park Ave       ┆ 7293.10          ┆ guggenheim      ┆ 0.307125            ┆ 3    │\n",
       "│ Central Park W & W 76 St ┆ 7253.04          ┆ natural_history ┆ 0.215531            ┆ 1    │\n",
       "│ W 76 St & Columbus Ave   ┆ 7281.09          ┆ natural_history ┆ 0.249885            ┆ 2    │\n",
       "│ W 82 St & Central Park W ┆ 7304.08          ┆ natural_history ┆ 0.3353              ┆ 3    │\n",
       "│ 5 Ave & E 87 St          ┆ 7323.09          ┆ guggenheim      ┆ 0.116378            ┆ 1    │\n",
       "└──────────────────────────┴──────────────────┴─────────────────┴─────────────────────┴──────┘"
      ]
     },
     "execution_count": 12,
     "metadata": {},
     "output_type": "execute_result"
    }
   ],
   "source": [
    "(city_bike_5 :=\n",
    " city_bike_4\n",
    " .with_columns(rank = pl.col('distance_to_closest')\n",
    "                        .rank('dense', descending = False)\n",
    "                        .over('closest_museum')\n",
    "              )\n",
    " .filter(pl.col('rank') <= 3)\n",
    ")"
   ]
  },
  {
   "cell_type": "markdown",
   "metadata": {},
   "source": [
    "## Putting all together in one dot-chain"
   ]
  },
  {
   "cell_type": "code",
   "execution_count": 13,
   "metadata": {},
   "outputs": [
    {
     "name": "stderr",
     "output_type": "stream",
     "text": [
      "/var/folders/k4/_tynxgnx6l39rvqmb6z2_mmh0000gn/T/ipykernel_84763/3989625226.py:2: DeprecationWarning: The argument `dtypes` for `read_csv` is deprecated. It has been renamed to `schema_overrides`.\n",
      "  pl.read_csv(city_bike_url,\n"
     ]
    },
    {
     "data": {
      "text/html": [
       "<div><style>\n",
       ".dataframe > thead > tr,\n",
       ".dataframe > tbody > tr {\n",
       "  text-align: right;\n",
       "  white-space: pre-wrap;\n",
       "}\n",
       "</style>\n",
       "<small>shape: (5, 4)</small><table border=\"1\" class=\"dataframe\"><thead><tr><th>start_station_name</th><th>start_station_id</th><th>start_lat</th><th>start_lng</th></tr><tr><td>str</td><td>str</td><td>f64</td><td>f64</td></tr></thead><tbody><tr><td>&quot;E 77 St &amp; 3 Ave&quot;</td><td>&quot;7092.06&quot;</td><td>40.773142</td><td>-73.958562</td></tr><tr><td>&quot;Broadway &amp; W 58 St&quot;</td><td>&quot;6948.10&quot;</td><td>40.766953</td><td>-73.981693</td></tr><tr><td>&quot;W 44 St &amp; 11 Ave&quot;</td><td>&quot;6756.05&quot;</td><td>40.762009</td><td>-73.996975</td></tr><tr><td>&quot;W 106 St &amp; Central Park W&quot;</td><td>&quot;7606.01&quot;</td><td>40.798186</td><td>-73.960591</td></tr><tr><td>&quot;E 68 St &amp; 3 Ave&quot;</td><td>&quot;6896.16&quot;</td><td>40.767128</td><td>-73.962246</td></tr></tbody></table></div>"
      ],
      "text/plain": [
       "shape: (5, 4)\n",
       "┌───────────────────────────┬──────────────────┬───────────┬────────────┐\n",
       "│ start_station_name        ┆ start_station_id ┆ start_lat ┆ start_lng  │\n",
       "│ ---                       ┆ ---              ┆ ---       ┆ ---        │\n",
       "│ str                       ┆ str              ┆ f64       ┆ f64        │\n",
       "╞═══════════════════════════╪══════════════════╪═══════════╪════════════╡\n",
       "│ E 77 St & 3 Ave           ┆ 7092.06          ┆ 40.773142 ┆ -73.958562 │\n",
       "│ Broadway & W 58 St        ┆ 6948.10          ┆ 40.766953 ┆ -73.981693 │\n",
       "│ W 44 St & 11 Ave          ┆ 6756.05          ┆ 40.762009 ┆ -73.996975 │\n",
       "│ W 106 St & Central Park W ┆ 7606.01          ┆ 40.798186 ┆ -73.960591 │\n",
       "│ E 68 St & 3 Ave           ┆ 6896.16          ┆ 40.767128 ┆ -73.962246 │\n",
       "└───────────────────────────┴──────────────────┴───────────┴────────────┘"
      ]
     },
     "execution_count": 13,
     "metadata": {},
     "output_type": "execute_result"
    }
   ],
   "source": [
    "(city_bike :=\n",
    " pl.read_csv(city_bike_url,\n",
    "             columns = [\"start_station_name\",\n",
    "                        \"start_station_id\",\n",
    "                        \"start_lat\",\n",
    "                        \"start_lng\",\n",
    "                       ],\n",
    "             dtypes = {\"start_station_name\": pl.String(),\n",
    "                       \"start_station_id\": pl.String(),\n",
    "                       \"start_lat\": pl.Float64(),\n",
    "                       \"start_lng\": pl.Float64(),\n",
    "                      },\n",
    "            )\n",
    ").head()"
   ]
  },
  {
   "cell_type": "code",
   "execution_count": 14,
   "metadata": {},
   "outputs": [
    {
     "data": {
      "text/html": [
       "<div><style>\n",
       ".dataframe > thead > tr,\n",
       ".dataframe > tbody > tr {\n",
       "  text-align: right;\n",
       "  white-space: pre-wrap;\n",
       "}\n",
       "</style>\n",
       "<small>shape: (6, 5)</small><table border=\"1\" class=\"dataframe\"><thead><tr><th>start_station_name</th><th>start_station_id</th><th>closest_museum</th><th>distance_to_closest</th><th>rank</th></tr><tr><td>str</td><td>str</td><td>str</td><td>f64</td><td>u32</td></tr></thead><tbody><tr><td>&quot;W 76 St &amp; Columbus Ave&quot;</td><td>&quot;7281.09&quot;</td><td>&quot;natural_history&quot;</td><td>0.249885</td><td>2</td></tr><tr><td>&quot;E 91 St &amp; Park Ave&quot;</td><td>&quot;7344.05&quot;</td><td>&quot;guggenheim&quot;</td><td>0.303969</td><td>2</td></tr><tr><td>&quot;5 Ave &amp; E 87 St&quot;</td><td>&quot;7323.09&quot;</td><td>&quot;guggenheim&quot;</td><td>0.116378</td><td>1</td></tr><tr><td>&quot;E 88 St &amp; Park Ave&quot;</td><td>&quot;7293.10&quot;</td><td>&quot;guggenheim&quot;</td><td>0.307125</td><td>3</td></tr><tr><td>&quot;Central Park W &amp; W 76 St&quot;</td><td>&quot;7253.04&quot;</td><td>&quot;natural_history&quot;</td><td>0.215531</td><td>1</td></tr><tr><td>&quot;W 82 St &amp; Central Park W&quot;</td><td>&quot;7304.08&quot;</td><td>&quot;natural_history&quot;</td><td>0.3353</td><td>3</td></tr></tbody></table></div>"
      ],
      "text/plain": [
       "shape: (6, 5)\n",
       "┌──────────────────────────┬──────────────────┬─────────────────┬─────────────────────┬──────┐\n",
       "│ start_station_name       ┆ start_station_id ┆ closest_museum  ┆ distance_to_closest ┆ rank │\n",
       "│ ---                      ┆ ---              ┆ ---             ┆ ---                 ┆ ---  │\n",
       "│ str                      ┆ str              ┆ str             ┆ f64                 ┆ u32  │\n",
       "╞══════════════════════════╪══════════════════╪═════════════════╪═════════════════════╪══════╡\n",
       "│ W 76 St & Columbus Ave   ┆ 7281.09          ┆ natural_history ┆ 0.249885            ┆ 2    │\n",
       "│ E 91 St & Park Ave       ┆ 7344.05          ┆ guggenheim      ┆ 0.303969            ┆ 2    │\n",
       "│ 5 Ave & E 87 St          ┆ 7323.09          ┆ guggenheim      ┆ 0.116378            ┆ 1    │\n",
       "│ E 88 St & Park Ave       ┆ 7293.10          ┆ guggenheim      ┆ 0.307125            ┆ 3    │\n",
       "│ Central Park W & W 76 St ┆ 7253.04          ┆ natural_history ┆ 0.215531            ┆ 1    │\n",
       "│ W 82 St & Central Park W ┆ 7304.08          ┆ natural_history ┆ 0.3353              ┆ 3    │\n",
       "└──────────────────────────┴──────────────────┴─────────────────┴─────────────────────┴──────┘"
      ]
     },
     "execution_count": 14,
     "metadata": {},
     "output_type": "execute_result"
    }
   ],
   "source": [
    "(closest_museum :=\n",
    " city_bike\n",
    " .group_by(['start_station_name',\n",
    "            'start_station_id'])\n",
    " .agg(start_lat = pl.mean('start_lat'),\n",
    "      start_lng = pl.mean('start_lng')\n",
    "     )\n",
    " .with_columns(guggenheim = great_circle_distance('start_lat', 'start_lng', 40.783056, -73.958889),\n",
    "               natural_history = great_circle_distance('start_lat', 'start_lng', 40.780833, -73.974444),\n",
    "              )\n",
    " .drop(['start_lat', 'start_lng'])\n",
    " .with_columns(closest_museum = pl.when(pl.col('guggenheim') < pl.col('natural_history'))\n",
    "                                  .then(pl.lit('guggenheim'))\n",
    "                                  .otherwise(pl.lit('natural_history'))\n",
    "              )\n",
    " .with_columns(distance_to_closest = pl.when(pl.col('closest_museum') == 'guggenheim')\n",
    "                                       .then(pl.col('guggenheim'))\n",
    "                                       .otherwise(pl.col('natural_history'))\n",
    "               )\n",
    " .drop(['guggenheim', 'natural_history'])\n",
    " .with_columns(rank = pl.col('distance_to_closest')\n",
    "                        .rank('dense', descending = False)\n",
    "                        .over('closest_museum')\n",
    "              )\n",
    " .filter(pl.col('rank') <= 3)\n",
    ")\n"
   ]
  },
  {
   "cell_type": "markdown",
   "metadata": {},
   "source": [
    "## <font color=\"red\"> Exerise 5 - Three Museum Trip </font>\n",
    "Now adapt the code to find the closest Sity Bike station to all three museums,\n"
   ]
  },
  {
   "cell_type": "code",
   "execution_count": 19,
   "metadata": {},
   "outputs": [],
   "source": [
    "gug_lat, gug_lng = (40.783056, -73.958889)\n",
    "nh_lat, nh_lng = (40.780833, -73.974444)\n",
    "moma_lat, moma_lng = (40.761667, -73.9775)\n"
   ]
  },
  {
   "cell_type": "code",
   "execution_count": 15,
   "metadata": {},
   "outputs": [],
   "source": [
    "# Your code here"
   ]
  }
 ],
 "metadata": {
  "anaconda-cloud": {},
  "celltoolbar": "Slideshow",
  "kernelspec": {
   "display_name": "polars",
   "language": "python",
   "name": "python3"
  },
  "language_info": {
   "codemirror_mode": {
    "name": "ipython",
    "version": 3
   },
   "file_extension": ".py",
   "mimetype": "text/x-python",
   "name": "python",
   "nbconvert_exporter": "python",
   "pygments_lexer": "ipython3",
   "version": "3.12.5"
  }
 },
 "nbformat": 4,
 "nbformat_minor": 1
}
